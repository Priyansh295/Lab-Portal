{
  "nbformat": 4,
  "nbformat_minor": 0,
  "metadata": {
    "colab": {
      "provenance": [],
      "toc_visible": true,
      "authorship_tag": "ABX9TyPOhD1qmbR5h6QxLYC8pM3u",
      "include_colab_link": true
    },
    "kernelspec": {
      "name": "python3",
      "display_name": "Python 3"
    },
    "language_info": {
      "name": "python"
    }
  },
  "cells": [
    {
      "cell_type": "markdown",
      "metadata": {
        "id": "view-in-github",
        "colab_type": "text"
      },
      "source": [
        "<a href=\"https://colab.research.google.com/github/Priyansh295/Lab-Portal/blob/main/Lab2.ipynb\" target=\"_parent\"><img src=\"https://colab.research.google.com/assets/colab-badge.svg\" alt=\"Open In Colab\"/></a>"
      ]
    },
    {
      "cell_type": "markdown",
      "source": [
        "Step 1:"
      ],
      "metadata": {
        "id": "MGxIIo5YBvNz"
      }
    },
    {
      "cell_type": "code",
      "execution_count": null,
      "metadata": {
        "id": "NbDV-dUKA-Ot"
      },
      "outputs": [],
      "source": [
        "# Step 1: Open a terminal or command prompt.\n",
        "\n",
        "# Step 2: Check if pip is installed\n",
        "pip --version\n",
        "\n",
        "# Step 3: Install OpenCV using pip\n",
        "pip install opencv-python\n",
        "\n",
        "# Step 4 (Optional): Install additional OpenCV modules\n",
        "pip install opencv-python-headless\n",
        "# or\n",
        "pip install opencv-contrib-python\n",
        "\n",
        "# Step 5: Verify the installation\n",
        "python -c \"import cv2; print(cv2._version_)\"`);"
      ]
    },
    {
      "cell_type": "markdown",
      "source": [
        "Step 2:\n"
      ],
      "metadata": {
        "id": "gimgspnpCPPF"
      }
    },
    {
      "cell_type": "code",
      "source": [
        "import cv2\n",
        "\n",
        "# Attempt to use the DirectShow backend for capturing video on Windows\n",
        "cap = cv2.VideoCapture(0, cv2.CAP_DSHOW)\n",
        "\n",
        "# Check if the webcam is opened correctly\n",
        "if not cap.isOpened():\n",
        "    print(\"Error: Could not open video stream or file\")\n",
        "    exit()\n",
        "\n",
        "try:\n",
        "    # Looping continuously to get frames\n",
        "    while True:\n",
        "        # Capture frame-by-frame\n",
        "        ret, frame = cap.read()\n",
        "\n",
        "        # If frame is read correctly, ret is True\n",
        "        if not ret:\n",
        "            print(\"Error: Failed to capture image\")\n",
        "            break\n",
        "\n",
        "        # Display the resulting frame\n",
        "        cv2.imshow('Webcam Video', frame)\n",
        "\n",
        "        # Break the loop on 'q' key press (waitKey returns a 32-bit integer)\n",
        "        if cv2.waitKey(1) & 0xFF == ord('q'):\n",
        "            break\n",
        "finally:\n",
        "    # When everything is done, release the capture\n",
        "    cap.release()\n",
        "    # Destroy all the windows\n",
        "    cv2.destroyAllWindows()"
      ],
      "metadata": {
        "id": "Xl8M0UWKC1_J"
      },
      "execution_count": null,
      "outputs": []
    },
    {
      "cell_type": "markdown",
      "source": [
        "Step 3:"
      ],
      "metadata": {
        "id": "2hatGBUWC86H"
      }
    },
    {
      "cell_type": "code",
      "source": [
        "import cv2\n",
        "import numpy as np\n",
        "\n",
        "def detect_shapes(frame):\n",
        "    # Convert the frame to grayscale\n",
        "    gray = cv2.cvtColor(frame, cv2.COLOR_BGR2GRAY)\n",
        "    # Apply GaussianBlur to reduce noise and improve contour detection\n",
        "    blurred = cv2.GaussianBlur(gray, (5, 5), 0)\n",
        "    # Detect edges using Canny\n",
        "    edged = cv2.Canny(blurred, 30, 100)  # Adjusted thresholds for Canny\n",
        "\n",
        "    # Find contours in the edged image\n",
        "    contours, _ = cv2.findContours(edged, cv2.RETR_EXTERNAL, cv2.CHAIN_APPROX_SIMPLE)\n",
        "\n",
        "    for contour in contours:\n",
        "        # Filter out small contours\n",
        "        if cv2.contourArea(contour) < 500:\n",
        "            continue\n",
        "\n",
        "        # Approximate the contour\n",
        "        peri = cv2.arcLength(contour, True);\n",
        "        approx = cv2.approxPolyDP(contour, 0.04 * peri, True);\n",
        "\n",
        "        # Determine the shape of the contour based on the number of vertices\n",
        "        shape = \"unidentified\";\n",
        "        if len(approx) == 3:\n",
        "            shape = \"Triangle\";\n",
        "        elif len(approx) == 4:\n",
        "            shape = \"Rectangle\";\n",
        "        elif len(approx) == 5:\n",
        "            shape = \"Pentagon\";\n",
        "        elif len(approx) == 6:\n",
        "            shape = \"Hexagon\";\n",
        "        else:\n",
        "            shape = \"Circle\";\n",
        "\n",
        "        # Draw the contour and the name of the shape on the image\n",
        "        cv2.drawContours(frame, [approx], -1, (0, 255, 0), 2);\n",
        "        M = cv2.moments(contour);\n",
        "        if M[\"m00\"] != 0:\n",
        "            cX = int(M[\"m10\"] / M[\"m00\"]);\n",
        "            cY = int(M[\"m01\"] / M[\"m00\"]);\n",
        "            cv2.putText(frame, shape, (cX - 20, cY - 20), cv2.FONT_HERSHEY_SIMPLEX, 0.5, (255, 255, 255), 2);\n",
        "\n",
        "    return frame;\n",
        "\n",
        "def main():\n",
        "    # Capture video from the webcam\n",
        "    cap = cv2.VideoCapture(0);\n",
        "\n",
        "    while True:\n",
        "        ret, frame = cap.read();\n",
        "        if not ret:\n",
        "            break;\n",
        "\n",
        "        # Detect and label shapes in the frame\n",
        "        frame = detect_shapes(frame);\n",
        "\n",
        "        # Display the frame\n",
        "        cv2.imshow(\"Shape Detection\", frame);\n",
        "\n",
        "        # Break the loop if 'q' is pressed\n",
        "        if cv2.waitKey(1) & 0xFF == ord('q'):\n",
        "            break;\n",
        "\n",
        "    # Release the capture and close any OpenCV windows\n",
        "    cap.release();\n",
        "    cv2.destroyAllWindows();\n",
        "\n",
        "if __name__ == \"__main__\":\n",
        "    main();"
      ],
      "metadata": {
        "id": "X6EL35z_DAyZ"
      },
      "execution_count": null,
      "outputs": []
    }
  ]
}