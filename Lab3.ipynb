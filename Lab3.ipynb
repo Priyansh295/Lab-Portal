{
  "nbformat": 4,
  "nbformat_minor": 0,
  "metadata": {
    "colab": {
      "provenance": [],
      "authorship_tag": "ABX9TyNW7oGPojneA5AMWbl9j4O/",
      "include_colab_link": true
    },
    "kernelspec": {
      "name": "python3",
      "display_name": "Python 3"
    },
    "language_info": {
      "name": "python"
    }
  },
  "cells": [
    {
      "cell_type": "markdown",
      "metadata": {
        "id": "view-in-github",
        "colab_type": "text"
      },
      "source": [
        "<a href=\"https://colab.research.google.com/github/Priyansh295/Lab-Portal/blob/main/Lab3.ipynb\" target=\"_parent\"><img src=\"https://colab.research.google.com/assets/colab-badge.svg\" alt=\"Open In Colab\"/></a>"
      ]
    },
    {
      "cell_type": "markdown",
      "source": [
        "# **Lab Experiment 3: Implementing a Rule-Based System**\n",
        "\n",
        "**Objective**: To create a rule-based system for sorting objects based on color or size using Python.\n"
      ],
      "metadata": {
        "id": "h3JBp5P5oAUc"
      }
    },
    {
      "cell_type": "code",
      "execution_count": null,
      "metadata": {
        "id": "h0OsaJQcn2WX"
      },
      "outputs": [],
      "source": [
        "import cv2\n",
        "import numpy as np\n",
        "\n",
        "# Function to classify color\n",
        "def classify_color(hsv_value):\n",
        "    h, s, v = hsv_value\n",
        "    if (0 <= h <= 10) or (160 <= h <= 180):\n",
        "        return \"Hot\"  # Red\n",
        "    elif 100 <= h <= 140:\n",
        "        return \"Cold\"  # Blue\n",
        "    elif 35 <= h <= 85:\n",
        "        return \"Natural\"  # Green\n",
        "    elif 20 <= h <= 30:\n",
        "        return \"Warm\"  # Yellow\n",
        "    else:\n",
        "        return \"Unknown\"\n",
        "\n",
        "# Capture image from webcam\n",
        "cap = cv2.VideoCapture(0)\n",
        "\n",
        "while True:\n",
        "    ret, frame = cap.read()\n",
        "    if not ret:\n",
        "        print(\"Failed to grab frame\")\n",
        "        break\n",
        "\n",
        "    # Convert the image from BGR to HSV color space\n",
        "    hsv = cv2.cvtColor(frame, cv2.COLOR_BGR2HSV)\n",
        "\n",
        "    # Calculate the histogram to find the most predominant color\n",
        "    hist = cv2.calcHist([hsv], [0], None, [180], [0, 180])\n",
        "    predominant_color_hue = np.argmax(hist)\n",
        "\n",
        "    # Classify the color\n",
        "    classification = classify_color((predominant_color_hue, 255, 255))\n",
        "\n",
        "    # Display the classification on the image\n",
        "    cv2.putText(frame, f\"Classification: {classification}\", (10, 30),\n",
        "                cv2.FONT_HERSHEY_SIMPLEX, 1, (255, 255, 255), 2, cv2.LINE_AA)\n",
        "\n",
        "    # Display the resulting frame\n",
        "    cv2.imshow('frame', frame)\n",
        "\n",
        "    if cv2.waitKey(1) & 0xFF == ord('q'):\n",
        "        break\n",
        "\n",
        "cap.release()\n",
        "cv2.destroyAllWindows()"
      ]
    }
  ]
}